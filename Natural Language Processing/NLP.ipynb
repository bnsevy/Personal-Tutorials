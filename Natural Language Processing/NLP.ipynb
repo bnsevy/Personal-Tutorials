{
 "cells": [
  {
   "cell_type": "code",
   "execution_count": 1,
   "metadata": {},
   "outputs": [],
   "source": [
    "# References\n",
    "# https://www.ntlk.org\n",
    "# https://www.tutorialspoint.com/natural_language_toolkit/natural_language_toolkit_tutorial.pdf\n",
    "# https://scikit-learn.org/stable/modules/feature_extraction.html\n",
    "# https://medium.com/@cmukesh8688/tf-idf-vectorizer-scikit-learn-dbc0244a911a\n",
    "# https://www.machinelearningplus.com/nlp/cosine-similarity/#3cosinesimilarityexample\n",
    "# https://radimrehurek.com/gensim/\n",
    "# https://towardsdatascience.com/introduction-to-word-embedding-and-word2vec-652d0c2060fa\n",
    "# https://github.com/RaRe-Technologies/gensim/blob/develop/docs/notebooks/soft_cosine_tutorial.ipynb\n",
    "\n",
    "import pathlib\n",
    "\n",
    "import matplotlib.pyplot as plt\n",
    "import nltk\n",
    "import numpy as np\n",
    "import pandas as pd\n",
    "import seaborn as sns\n",
    "sns.set_style('whitegrid')\n",
    "\n",
    "from sklearn.feature_extraction.text import CountVectorizer\n",
    "from sklearn.feature_extraction.text import TfidfVectorizer\n",
    "from sklearn.metrics.pairwise import linear_kernel\n",
    "from sklearn.metrics.pairwise import cosine_similarity\n",
    "\n",
    "import gensim\n",
    "import gensim.downloader as api"
   ]
  },
  {
   "cell_type": "markdown",
   "metadata": {},
   "source": [
    "## Table of Contents\n",
    "1. **NLTK (Natural Language Toolkit)**\n",
    "     - Tokenization  \n",
    "     - Stopwords  \n",
    "     - Stemming & Lemmatization  \n",
    "     - Word Replacement (in progress)  \n",
    "     - Distance Metrics  \n",
    "2. **Scikit Learn**  \n",
    "     - Vectorization  \n",
    "     - Cosine Similarity  \n",
    "3. **Gensim**  \n",
    "     - Soft Cosine Similarity  "
   ]
  },
  {
   "cell_type": "markdown",
   "metadata": {},
   "source": [
    "# **NLTK**  \n",
    "(Natural Language Toolkit)"
   ]
  },
  {
   "cell_type": "code",
   "execution_count": 2,
   "metadata": {},
   "outputs": [],
   "source": [
    "# only first time\n",
    "# nltk.download()"
   ]
  },
  {
   "cell_type": "markdown",
   "metadata": {},
   "source": [
    "## Tokenizing Text"
   ]
  },
  {
   "cell_type": "markdown",
   "metadata": {},
   "source": [
    "#### word_tokenize module \n",
    "- splits a string into tokens"
   ]
  },
  {
   "cell_type": "code",
   "execution_count": 3,
   "metadata": {},
   "outputs": [
    {
     "data": {
      "text/plain": [
       "['On',\n",
       " 'January',\n",
       " '11',\n",
       " ',',\n",
       " '2021',\n",
       " ',',\n",
       " 'Saban',\n",
       " \"'s\",\n",
       " 'Alabama',\n",
       " 'Crimson',\n",
       " 'Tide',\n",
       " 'defeated',\n",
       " 'the',\n",
       " 'Ohio',\n",
       " 'State',\n",
       " 'Buckeyes',\n",
       " '52-24',\n",
       " 'to',\n",
       " 'win',\n",
       " 'the',\n",
       " 'National',\n",
       " 'Championship',\n",
       " '.']"
      ]
     },
     "execution_count": 3,
     "metadata": {},
     "output_type": "execute_result"
    }
   ],
   "source": [
    "# from package import class\n",
    "# from nltk.tokenizer import word_tokenize\n",
    "\n",
    "bama_string = 'On January 11, 2021, Saban\\'s Alabama Crimson Tide defeated the Ohio State Buckeyes 52-24 to win the National Championship.'\n",
    "my_tokens = nltk.tokenize.word_tokenize(bama_string)\n",
    "my_tokens"
   ]
  },
  {
   "cell_type": "markdown",
   "metadata": {},
   "source": [
    "#### WordPunctTokenizer class\n",
    "- splits all punctuation into separate tokens"
   ]
  },
  {
   "cell_type": "code",
   "execution_count": 4,
   "metadata": {},
   "outputs": [
    {
     "data": {
      "text/plain": [
       "['On',\n",
       " 'January',\n",
       " '11',\n",
       " ',',\n",
       " '2021',\n",
       " ',',\n",
       " 'Saban',\n",
       " \"'\",\n",
       " 's',\n",
       " 'Alabama',\n",
       " 'Crimson',\n",
       " 'Tide',\n",
       " 'defeated',\n",
       " 'the',\n",
       " 'Ohio',\n",
       " 'State',\n",
       " 'Buckeyes',\n",
       " '52',\n",
       " '-',\n",
       " '24',\n",
       " 'to',\n",
       " 'win',\n",
       " 'the',\n",
       " 'National',\n",
       " 'Championship',\n",
       " '.']"
      ]
     },
     "execution_count": 4,
     "metadata": {},
     "output_type": "execute_result"
    }
   ],
   "source": [
    "tknzr = nltk.tokenize.WordPunctTokenizer()\n",
    "my_tokens = tknzr.tokenize(bama_string)\n",
    "my_tokens"
   ]
  },
  {
   "cell_type": "markdown",
   "metadata": {},
   "source": [
    "#### sent_tokenizer module\n",
    "- split text/paragraph into sentences"
   ]
  },
  {
   "cell_type": "code",
   "execution_count": 5,
   "metadata": {},
   "outputs": [
    {
     "data": {
      "text/plain": [
       "['I took the dog for a walk.',\n",
       " 'After five minutes, it began to rain.',\n",
       " 'We ran back to the house.']"
      ]
     },
     "execution_count": 5,
     "metadata": {},
     "output_type": "execute_result"
    }
   ],
   "source": [
    "para_string = 'I took the dog for a walk. After five minutes, it began to rain. We ran back to the house.'\n",
    "my_tokens = nltk.tokenize.sent_tokenize(para_string)\n",
    "my_tokens"
   ]
  },
  {
   "cell_type": "markdown",
   "metadata": {},
   "source": [
    "#### RegexpTokenizer class \n",
    "- gives complete control over how to tokenize the text"
   ]
  },
  {
   "cell_type": "code",
   "execution_count": 6,
   "metadata": {},
   "outputs": [
    {
     "data": {
      "text/plain": [
       "['On',\n",
       " 'January',\n",
       " '11',\n",
       " '2021',\n",
       " \"Saban's\",\n",
       " 'Alabama',\n",
       " 'Crimson',\n",
       " 'Tide',\n",
       " 'defeated',\n",
       " 'the',\n",
       " 'Ohio',\n",
       " 'State',\n",
       " 'Buckeyes',\n",
       " '52',\n",
       " '24',\n",
       " 'to',\n",
       " 'win',\n",
       " 'the',\n",
       " 'National',\n",
       " 'Championship']"
      ]
     },
     "execution_count": 6,
     "metadata": {},
     "output_type": "execute_result"
    }
   ],
   "source": [
    "# example: don't split contradictions like \"Saban's\"\n",
    "tknzr = nltk.tokenize.RegexpTokenizer(\"[\\w']+\")\n",
    "my_tokens = tknzr.tokenize(bama_string)\n",
    "my_tokens"
   ]
  },
  {
   "cell_type": "code",
   "execution_count": 7,
   "metadata": {},
   "outputs": [
    {
     "data": {
      "text/plain": [
       "['On',\n",
       " 'January',\n",
       " '11,',\n",
       " '2021,',\n",
       " \"Saban's\",\n",
       " 'Alabama',\n",
       " 'Crimson',\n",
       " 'Tide',\n",
       " 'defeated',\n",
       " 'the',\n",
       " 'Ohio',\n",
       " 'State',\n",
       " 'Buckeyes',\n",
       " '52-24',\n",
       " 'to',\n",
       " 'win',\n",
       " 'the',\n",
       " 'National',\n",
       " 'Championship.']"
      ]
     },
     "execution_count": 7,
     "metadata": {},
     "output_type": "execute_result"
    }
   ],
   "source": [
    "# example: always tokenize on whitespace\n",
    "tknzr = nltk.tokenize.RegexpTokenizer('\\s+', gaps = True)\n",
    "my_tokens = tknzr.tokenize(bama_string)\n",
    "my_tokens"
   ]
  },
  {
   "cell_type": "markdown",
   "metadata": {},
   "source": [
    "#### TweetTokenizer class \n",
    "- best tokenizer for emojis"
   ]
  },
  {
   "cell_type": "code",
   "execution_count": 8,
   "metadata": {},
   "outputs": [
    {
     "data": {
      "text/plain": [
       "['LeBron',\n",
       " 'had',\n",
       " 'himself',\n",
       " 'a',\n",
       " 'night',\n",
       " '🔥',\n",
       " '💯',\n",
       " \"It's\",\n",
       " 'INSANE',\n",
       " 'that',\n",
       " 'he',\n",
       " '’',\n",
       " 's',\n",
       " 'doing',\n",
       " 'this',\n",
       " 'at',\n",
       " '36',\n",
       " '👏',\n",
       " '😤']"
      ]
     },
     "execution_count": 8,
     "metadata": {},
     "output_type": "execute_result"
    }
   ],
   "source": [
    "emoji_string = 'LeBron had himself a night🔥💯 It\\'s INSANE that he’s doing this at 36👏😤'\n",
    "tknzr = nltk.tokenize.TweetTokenizer()\n",
    "my_tokens = tknzr.tokenize(emoji_string)\n",
    "my_tokens"
   ]
  },
  {
   "cell_type": "markdown",
   "metadata": {},
   "source": [
    "## Stopwords  \n",
    "Words that are present in text but do not contribute to the meaning of a sentence"
   ]
  },
  {
   "cell_type": "markdown",
   "metadata": {},
   "source": [
    "#### English Stopwords"
   ]
  },
  {
   "cell_type": "code",
   "execution_count": 9,
   "metadata": {},
   "outputs": [
    {
     "data": {
      "text/plain": [
       "['i', 'me', 'my', 'myself', 'we']"
      ]
     },
     "execution_count": 9,
     "metadata": {},
     "output_type": "execute_result"
    }
   ],
   "source": [
    "# English is one of many languages with a preloaded set of stopwords\n",
    "english_stops = nltk.corpus.stopwords.words('english')\n",
    "# there are too many to show, but listed below are a few examples\n",
    "english_stops[0:5]"
   ]
  },
  {
   "cell_type": "code",
   "execution_count": 10,
   "metadata": {},
   "outputs": [
    {
     "data": {
      "text/plain": [
       "['I', 'student', 'University', 'Switzerland']"
      ]
     },
     "execution_count": 10,
     "metadata": {},
     "output_type": "execute_result"
    }
   ],
   "source": [
    "# example: remove stopwords\n",
    "words = ['I', 'am', 'a', 'student', 'at', 'the', 'University', 'in', 'Switzerland']\n",
    "[word for word in words if word not in english_stops]"
   ]
  },
  {
   "cell_type": "markdown",
   "metadata": {},
   "source": [
    "## Stemming and Lemmatization"
   ]
  },
  {
   "cell_type": "markdown",
   "metadata": {},
   "source": [
    "### Stemming  \n",
    "- Technique used to extract the base form of words by removing affixes (root stem)\n",
    "- Looks at form of the word"
   ]
  },
  {
   "cell_type": "markdown",
   "metadata": {},
   "source": [
    "#### PorterStemmer class "
   ]
  },
  {
   "cell_type": "code",
   "execution_count": 11,
   "metadata": {},
   "outputs": [
    {
     "data": {
      "text/plain": [
       "'write'"
      ]
     },
     "execution_count": 11,
     "metadata": {},
     "output_type": "execute_result"
    }
   ],
   "source": [
    "word_stemmer = nltk.stem.PorterStemmer()\n",
    "word_stemmer.stem('writing')"
   ]
  },
  {
   "cell_type": "markdown",
   "metadata": {},
   "source": [
    "#### LancasterStemmer class "
   ]
  },
  {
   "cell_type": "code",
   "execution_count": 12,
   "metadata": {},
   "outputs": [
    {
     "data": {
      "text/plain": [
       "'writ'"
      ]
     },
     "execution_count": 12,
     "metadata": {},
     "output_type": "execute_result"
    }
   ],
   "source": [
    "word_stemmer = nltk.stem.LancasterStemmer()\n",
    "word_stemmer.stem('written')"
   ]
  },
  {
   "cell_type": "markdown",
   "metadata": {},
   "source": [
    "#### RegexpStemmer class  \n",
    "- Takes in a single regular expression, removes any prefix or suffix that matches that expression"
   ]
  },
  {
   "cell_type": "code",
   "execution_count": 13,
   "metadata": {},
   "outputs": [
    {
     "data": {
      "text/plain": [
       "'writ'"
      ]
     },
     "execution_count": 13,
     "metadata": {},
     "output_type": "execute_result"
    }
   ],
   "source": [
    "word_stemmer = nltk.stem.RegexpStemmer('ing')\n",
    "word_stemmer.stem('ingwriting')"
   ]
  },
  {
   "cell_type": "markdown",
   "metadata": {},
   "source": [
    "#### SnowballStemmer class  \n",
    "- works with multiple languages"
   ]
  },
  {
   "cell_type": "code",
   "execution_count": 14,
   "metadata": {},
   "outputs": [
    {
     "data": {
      "text/plain": [
       "'bonjour'"
      ]
     },
     "execution_count": 14,
     "metadata": {},
     "output_type": "execute_result"
    }
   ],
   "source": [
    "French_stemmer = nltk.stem.SnowballStemmer('french')\n",
    "French_stemmer.stem('Bonjoura')"
   ]
  },
  {
   "cell_type": "markdown",
   "metadata": {},
   "source": [
    "### Lemmatization\n",
    "- Technique used to extract the base form of words by finding root word\n",
    "- Looks at meaning of the word"
   ]
  },
  {
   "cell_type": "code",
   "execution_count": 15,
   "metadata": {},
   "outputs": [
    {
     "data": {
      "text/plain": [
       "'belief'"
      ]
     },
     "execution_count": 15,
     "metadata": {},
     "output_type": "execute_result"
    }
   ],
   "source": [
    "word_lemmatizer = nltk.stem.WordNetLemmatizer()\n",
    "word_lemmatizer.lemmatize('believes')"
   ]
  },
  {
   "cell_type": "markdown",
   "metadata": {},
   "source": [
    "- Difference versus stemming"
   ]
  },
  {
   "cell_type": "code",
   "execution_count": 16,
   "metadata": {},
   "outputs": [
    {
     "data": {
      "text/plain": [
       "'believ'"
      ]
     },
     "execution_count": 16,
     "metadata": {},
     "output_type": "execute_result"
    }
   ],
   "source": [
    "word_stemmer = nltk.stem.LancasterStemmer()\n",
    "word_stemmer.stem('believes')"
   ]
  },
  {
   "cell_type": "markdown",
   "metadata": {},
   "source": [
    "## Word Replacement"
   ]
  },
  {
   "cell_type": "markdown",
   "metadata": {},
   "source": [
    "## Distance Metrics"
   ]
  },
  {
   "cell_type": "markdown",
   "metadata": {},
   "source": [
    "#### edit_distance(s1, s2)  \n",
    "- Calculates the number of characters that need to be substituted, inserted, or deleted to transform s1 into s2\n",
    "- Possible to weigh subsitution edits differently (default 1)"
   ]
  },
  {
   "cell_type": "code",
   "execution_count": 17,
   "metadata": {},
   "outputs": [
    {
     "data": {
      "text/plain": [
       "21"
      ]
     },
     "execution_count": 17,
     "metadata": {},
     "output_type": "execute_result"
    }
   ],
   "source": [
    "s1 = 'Kevin Durant scored 37 points, grabbed 8 rebounds, and had 6 assists in a loss'\n",
    "s2 = 'Stephen Curry scored 30 points, and grabbed 4 rebounds, and had 11 assists in a win'\n",
    "\n",
    "edit_distance = nltk.edit_distance(s1, s2)\n",
    "edit_distance"
   ]
  },
  {
   "cell_type": "markdown",
   "metadata": {},
   "source": [
    "#### edit_proportion"
   ]
  },
  {
   "cell_type": "code",
   "execution_count": 18,
   "metadata": {},
   "outputs": [
    {
     "data": {
      "text/plain": [
       "0.2692"
      ]
     },
     "execution_count": 18,
     "metadata": {},
     "output_type": "execute_result"
    }
   ],
   "source": [
    "edit_proportion = round(nltk.edit_distance(s1, s2) / len(s1), 4)\n",
    "edit_proportion"
   ]
  },
  {
   "cell_type": "code",
   "execution_count": 19,
   "metadata": {},
   "outputs": [
    {
     "name": "stdout",
     "output_type": "stream",
     "text": [
      "Transform\n",
      "  - Kevin Durant scored 37 points, grabbed 8 rebounds, and had 6 assists in a loss\n",
      "Into\n",
      "  - Stephen Curry scored 30 points, and grabbed 4 rebounds, and had 11 assists in a win\n",
      "     - edit distance: 21\n",
      "     - edit percent: 26.92\n",
      "***************************************************************************\n",
      "Transform\n",
      "  - Stephen Curry scored 30 points, and grabbed 4 rebounds, and had 11 assists in a win\n",
      "Into\n",
      "  - Stephen Curry scored 30 points, and grabbed 4 rebounds, and had 11 assists in a win\n",
      "     - edit distance: 0\n",
      "     - edit percent: 0.0\n",
      "***************************************************************************\n",
      "Transform\n",
      "  - Javale McGee scored 10 points, and grabbed 5 rebounds in a loss\n",
      "Into\n",
      "  - Stephen Curry scored 30 points, and grabbed 4 rebounds, and had 11 assists in a win\n",
      "     - edit distance: 35\n",
      "     - edit percent: 55.56\n",
      "***************************************************************************\n",
      "Transform\n",
      "  - The square root of 49 is 7\n",
      "Into\n",
      "  - Stephen Curry scored 30 points, and grabbed 4 rebounds, and had 11 assists in a win\n",
      "     - edit distance: 67\n",
      "     - edit percent: 257.69\n",
      "***************************************************************************\n"
     ]
    }
   ],
   "source": [
    "s3 = 'Javale McGee scored 10 points, and grabbed 5 rebounds in a loss'\n",
    "s4 = 'The square root of 49 is 7'\n",
    "\n",
    "player_list = [s1, s2, s3, s4]\n",
    "target_player = player_list[1]\n",
    "\n",
    "for comparison_player in player_list:\n",
    "    edit_distance = nltk.edit_distance(comparison_player, target_player)\n",
    "    edit_percent = round(100*edit_distance/len(comparison_player), 2)\n",
    "    print('Transform')\n",
    "    print(f'  - {comparison_player}')\n",
    "    print('Into')\n",
    "    print(f'  - {target_player}')\n",
    "    print(f'     - edit distance: {edit_distance}')\n",
    "    print(f'     - edit percent: {edit_percent}')\n",
    "    print('*'*75)"
   ]
  },
  {
   "cell_type": "markdown",
   "metadata": {},
   "source": [
    "#### Creating a Pandas DataFrame for each edit distance"
   ]
  },
  {
   "cell_type": "markdown",
   "metadata": {},
   "source": [
    "Indexes = target player  \n",
    "Columns = comparison player  \n",
    "Shows edit percent needed to turn comparison player into target player"
   ]
  },
  {
   "cell_type": "code",
   "execution_count": 20,
   "metadata": {},
   "outputs": [
    {
     "data": {
      "text/html": [
       "<div>\n",
       "<style scoped>\n",
       "    .dataframe tbody tr th:only-of-type {\n",
       "        vertical-align: middle;\n",
       "    }\n",
       "\n",
       "    .dataframe tbody tr th {\n",
       "        vertical-align: top;\n",
       "    }\n",
       "\n",
       "    .dataframe thead th {\n",
       "        text-align: right;\n",
       "    }\n",
       "</style>\n",
       "<table border=\"1\" class=\"dataframe\">\n",
       "  <thead>\n",
       "    <tr style=\"text-align: right;\">\n",
       "      <th></th>\n",
       "      <th>Kevin Durant scored 37 points, grabbed 8 rebounds, and had 6 assists in a loss</th>\n",
       "      <th>Stephen Curry scored 30 points, and grabbed 4 rebounds, and had 11 assists in a win</th>\n",
       "      <th>Javale McGee scored 10 points, and grabbed 5 rebounds in a loss</th>\n",
       "      <th>The square root of 49 is 7</th>\n",
       "    </tr>\n",
       "  </thead>\n",
       "  <tbody>\n",
       "    <tr>\n",
       "      <th>Kevin Durant scored 37 points, grabbed 8 rebounds, and had 6 assists in a loss</th>\n",
       "      <td>0.00</td>\n",
       "      <td>25.30</td>\n",
       "      <td>58.73</td>\n",
       "      <td>246.15</td>\n",
       "    </tr>\n",
       "    <tr>\n",
       "      <th>Stephen Curry scored 30 points, and grabbed 4 rebounds, and had 11 assists in a win</th>\n",
       "      <td>26.92</td>\n",
       "      <td>0.00</td>\n",
       "      <td>55.56</td>\n",
       "      <td>257.69</td>\n",
       "    </tr>\n",
       "    <tr>\n",
       "      <th>Javale McGee scored 10 points, and grabbed 5 rebounds in a loss</th>\n",
       "      <td>47.44</td>\n",
       "      <td>42.17</td>\n",
       "      <td>0.00</td>\n",
       "      <td>196.15</td>\n",
       "    </tr>\n",
       "    <tr>\n",
       "      <th>The square root of 49 is 7</th>\n",
       "      <td>82.05</td>\n",
       "      <td>80.72</td>\n",
       "      <td>80.95</td>\n",
       "      <td>0.00</td>\n",
       "    </tr>\n",
       "  </tbody>\n",
       "</table>\n",
       "</div>"
      ],
      "text/plain": [
       "                                                    Kevin Durant scored 37 points, grabbed 8 rebounds, and had 6 assists in a loss  \\\n",
       "Kevin Durant scored 37 points, grabbed 8 reboun...                                               0.00                                \n",
       "Stephen Curry scored 30 points, and grabbed 4 r...                                              26.92                                \n",
       "Javale McGee scored 10 points, and grabbed 5 re...                                              47.44                                \n",
       "The square root of 49 is 7                                                                      82.05                                \n",
       "\n",
       "                                                    Stephen Curry scored 30 points, and grabbed 4 rebounds, and had 11 assists in a win  \\\n",
       "Kevin Durant scored 37 points, grabbed 8 reboun...                                              25.30                                     \n",
       "Stephen Curry scored 30 points, and grabbed 4 r...                                               0.00                                     \n",
       "Javale McGee scored 10 points, and grabbed 5 re...                                              42.17                                     \n",
       "The square root of 49 is 7                                                                      80.72                                     \n",
       "\n",
       "                                                    Javale McGee scored 10 points, and grabbed 5 rebounds in a loss  \\\n",
       "Kevin Durant scored 37 points, grabbed 8 reboun...                                              58.73                 \n",
       "Stephen Curry scored 30 points, and grabbed 4 r...                                              55.56                 \n",
       "Javale McGee scored 10 points, and grabbed 5 re...                                               0.00                 \n",
       "The square root of 49 is 7                                                                      80.95                 \n",
       "\n",
       "                                                    The square root of 49 is 7  \n",
       "Kevin Durant scored 37 points, grabbed 8 reboun...                      246.15  \n",
       "Stephen Curry scored 30 points, and grabbed 4 r...                      257.69  \n",
       "Javale McGee scored 10 points, and grabbed 5 re...                      196.15  \n",
       "The square root of 49 is 7                                                0.00  "
      ]
     },
     "execution_count": 20,
     "metadata": {},
     "output_type": "execute_result"
    }
   ],
   "source": [
    "percent = []\n",
    "array = []\n",
    "for target_player_index, target_player in enumerate(player_list):\n",
    "    for comparison_player_index, comparison_player in enumerate(player_list):\n",
    "        edit_distance = nltk.edit_distance(comparison_player, target_player)\n",
    "        edit_percent = round(100*edit_distance/len(comparison_player), 2)\n",
    "        percent.append(edit_percent)\n",
    "    array.append(percent)\n",
    "    percent = []\n",
    "df = pd.DataFrame(array, index = player_list, columns = player_list)\n",
    "df"
   ]
  },
  {
   "cell_type": "markdown",
   "metadata": {},
   "source": [
    "# **Scikit Learn**\n",
    "- sklearn.feature_extraction.text\n",
    "- sklearn.metrics.pairwise"
   ]
  },
  {
   "cell_type": "markdown",
   "metadata": {},
   "source": [
    "## Vectorization\n",
    "- The general process of turning a collection of text documents into numerical feature vectors\n",
    "- Tokenization, counting, normalization process\n",
    "- Documents are described by word occurences, while ignoring positional information of the words in the document"
   ]
  },
  {
   "cell_type": "code",
   "execution_count": 21,
   "metadata": {},
   "outputs": [],
   "source": [
    "vectorizer = TfidfVectorizer()\n",
    "X = vectorizer.fit_transform(player_list)"
   ]
  },
  {
   "cell_type": "code",
   "execution_count": 22,
   "metadata": {},
   "outputs": [
    {
     "data": {
      "text/plain": [
       "<4x26 sparse matrix of type '<class 'numpy.float64'>'\n",
       "\twith 41 stored elements in Compressed Sparse Row format>"
      ]
     },
     "execution_count": 22,
     "metadata": {},
     "output_type": "execute_result"
    }
   ],
   "source": [
    "X"
   ]
  },
  {
   "cell_type": "markdown",
   "metadata": {},
   "source": [
    "### Count Vectorizer  \n",
    "- **Finds occurences of every word in each document**\n",
    "- Creates bag-of-words vector\n",
    "- As seen below, there are 26 unique words (each a column), which matches the size of X above"
   ]
  },
  {
   "cell_type": "code",
   "execution_count": 23,
   "metadata": {},
   "outputs": [],
   "source": [
    "# Create Document Term Matrix\n",
    "vectorizer = CountVectorizer()\n",
    "X = vectorizer.fit_transform(player_list)"
   ]
  },
  {
   "cell_type": "code",
   "execution_count": 24,
   "metadata": {},
   "outputs": [
    {
     "data": {
      "text/html": [
       "<div>\n",
       "<style scoped>\n",
       "    .dataframe tbody tr th:only-of-type {\n",
       "        vertical-align: middle;\n",
       "    }\n",
       "\n",
       "    .dataframe tbody tr th {\n",
       "        vertical-align: top;\n",
       "    }\n",
       "\n",
       "    .dataframe thead th {\n",
       "        text-align: right;\n",
       "    }\n",
       "</style>\n",
       "<table border=\"1\" class=\"dataframe\">\n",
       "  <thead>\n",
       "    <tr style=\"text-align: right;\">\n",
       "      <th></th>\n",
       "      <th>10</th>\n",
       "      <th>11</th>\n",
       "      <th>30</th>\n",
       "      <th>37</th>\n",
       "      <th>49</th>\n",
       "      <th>and</th>\n",
       "      <th>assists</th>\n",
       "      <th>curry</th>\n",
       "      <th>durant</th>\n",
       "      <th>grabbed</th>\n",
       "      <th>...</th>\n",
       "      <th>mcgee</th>\n",
       "      <th>of</th>\n",
       "      <th>points</th>\n",
       "      <th>rebounds</th>\n",
       "      <th>root</th>\n",
       "      <th>scored</th>\n",
       "      <th>square</th>\n",
       "      <th>stephen</th>\n",
       "      <th>the</th>\n",
       "      <th>win</th>\n",
       "    </tr>\n",
       "  </thead>\n",
       "  <tbody>\n",
       "    <tr>\n",
       "      <th>Kevin Durant scored 37 points, grabbed 8 rebounds, and had 6 assists in a loss</th>\n",
       "      <td>0</td>\n",
       "      <td>0</td>\n",
       "      <td>0</td>\n",
       "      <td>1</td>\n",
       "      <td>0</td>\n",
       "      <td>1</td>\n",
       "      <td>1</td>\n",
       "      <td>0</td>\n",
       "      <td>1</td>\n",
       "      <td>1</td>\n",
       "      <td>...</td>\n",
       "      <td>0</td>\n",
       "      <td>0</td>\n",
       "      <td>1</td>\n",
       "      <td>1</td>\n",
       "      <td>0</td>\n",
       "      <td>1</td>\n",
       "      <td>0</td>\n",
       "      <td>0</td>\n",
       "      <td>0</td>\n",
       "      <td>0</td>\n",
       "    </tr>\n",
       "    <tr>\n",
       "      <th>Stephen Curry scored 30 points, and grabbed 4 rebounds, and had 11 assists in a win</th>\n",
       "      <td>0</td>\n",
       "      <td>1</td>\n",
       "      <td>1</td>\n",
       "      <td>0</td>\n",
       "      <td>0</td>\n",
       "      <td>2</td>\n",
       "      <td>1</td>\n",
       "      <td>1</td>\n",
       "      <td>0</td>\n",
       "      <td>1</td>\n",
       "      <td>...</td>\n",
       "      <td>0</td>\n",
       "      <td>0</td>\n",
       "      <td>1</td>\n",
       "      <td>1</td>\n",
       "      <td>0</td>\n",
       "      <td>1</td>\n",
       "      <td>0</td>\n",
       "      <td>1</td>\n",
       "      <td>0</td>\n",
       "      <td>1</td>\n",
       "    </tr>\n",
       "    <tr>\n",
       "      <th>Javale McGee scored 10 points, and grabbed 5 rebounds in a loss</th>\n",
       "      <td>1</td>\n",
       "      <td>0</td>\n",
       "      <td>0</td>\n",
       "      <td>0</td>\n",
       "      <td>0</td>\n",
       "      <td>1</td>\n",
       "      <td>0</td>\n",
       "      <td>0</td>\n",
       "      <td>0</td>\n",
       "      <td>1</td>\n",
       "      <td>...</td>\n",
       "      <td>1</td>\n",
       "      <td>0</td>\n",
       "      <td>1</td>\n",
       "      <td>1</td>\n",
       "      <td>0</td>\n",
       "      <td>1</td>\n",
       "      <td>0</td>\n",
       "      <td>0</td>\n",
       "      <td>0</td>\n",
       "      <td>0</td>\n",
       "    </tr>\n",
       "    <tr>\n",
       "      <th>The square root of 49 is 7</th>\n",
       "      <td>0</td>\n",
       "      <td>0</td>\n",
       "      <td>0</td>\n",
       "      <td>0</td>\n",
       "      <td>1</td>\n",
       "      <td>0</td>\n",
       "      <td>0</td>\n",
       "      <td>0</td>\n",
       "      <td>0</td>\n",
       "      <td>0</td>\n",
       "      <td>...</td>\n",
       "      <td>0</td>\n",
       "      <td>1</td>\n",
       "      <td>0</td>\n",
       "      <td>0</td>\n",
       "      <td>1</td>\n",
       "      <td>0</td>\n",
       "      <td>1</td>\n",
       "      <td>0</td>\n",
       "      <td>1</td>\n",
       "      <td>0</td>\n",
       "    </tr>\n",
       "  </tbody>\n",
       "</table>\n",
       "<p>4 rows × 26 columns</p>\n",
       "</div>"
      ],
      "text/plain": [
       "                                                    10  11  30  37  49  and  \\\n",
       "Kevin Durant scored 37 points, grabbed 8 reboun...   0   0   0   1   0    1   \n",
       "Stephen Curry scored 30 points, and grabbed 4 r...   0   1   1   0   0    2   \n",
       "Javale McGee scored 10 points, and grabbed 5 re...   1   0   0   0   0    1   \n",
       "The square root of 49 is 7                           0   0   0   0   1    0   \n",
       "\n",
       "                                                    assists  curry  durant  \\\n",
       "Kevin Durant scored 37 points, grabbed 8 reboun...        1      0       1   \n",
       "Stephen Curry scored 30 points, and grabbed 4 r...        1      1       0   \n",
       "Javale McGee scored 10 points, and grabbed 5 re...        0      0       0   \n",
       "The square root of 49 is 7                                0      0       0   \n",
       "\n",
       "                                                    grabbed  ...  mcgee  of  \\\n",
       "Kevin Durant scored 37 points, grabbed 8 reboun...        1  ...      0   0   \n",
       "Stephen Curry scored 30 points, and grabbed 4 r...        1  ...      0   0   \n",
       "Javale McGee scored 10 points, and grabbed 5 re...        1  ...      1   0   \n",
       "The square root of 49 is 7                                0  ...      0   1   \n",
       "\n",
       "                                                    points  rebounds  root  \\\n",
       "Kevin Durant scored 37 points, grabbed 8 reboun...       1         1     0   \n",
       "Stephen Curry scored 30 points, and grabbed 4 r...       1         1     0   \n",
       "Javale McGee scored 10 points, and grabbed 5 re...       1         1     0   \n",
       "The square root of 49 is 7                               0         0     1   \n",
       "\n",
       "                                                    scored  square  stephen  \\\n",
       "Kevin Durant scored 37 points, grabbed 8 reboun...       1       0        0   \n",
       "Stephen Curry scored 30 points, and grabbed 4 r...       1       0        1   \n",
       "Javale McGee scored 10 points, and grabbed 5 re...       1       0        0   \n",
       "The square root of 49 is 7                               0       1        0   \n",
       "\n",
       "                                                    the  win  \n",
       "Kevin Durant scored 37 points, grabbed 8 reboun...    0    0  \n",
       "Stephen Curry scored 30 points, and grabbed 4 r...    0    1  \n",
       "Javale McGee scored 10 points, and grabbed 5 re...    0    0  \n",
       "The square root of 49 is 7                            1    0  \n",
       "\n",
       "[4 rows x 26 columns]"
      ]
     },
     "execution_count": 24,
     "metadata": {},
     "output_type": "execute_result"
    }
   ],
   "source": [
    "# Optional: Convert sparse matrix to Pandas DataFrame to visualize process\n",
    "player_term_matrix = X.todense()\n",
    "df = pd.DataFrame(\n",
    "    player_term_matrix,\n",
    "    columns = vectorizer.get_feature_names(),\n",
    "    index = player_list\n",
    ")\n",
    "df"
   ]
  },
  {
   "cell_type": "markdown",
   "metadata": {},
   "source": [
    "### Tfidf Vectorizer\n",
    "- (Term Frequency) * (Inverse Document Frequency)\n",
    "- Considers **overall document weightage of each word**\n",
    "- Downweights words that occur frequently across documents"
   ]
  },
  {
   "cell_type": "code",
   "execution_count": 25,
   "metadata": {},
   "outputs": [],
   "source": [
    "vectorizer = TfidfVectorizer()\n",
    "X = vectorizer.fit_transform(player_list)"
   ]
  },
  {
   "cell_type": "code",
   "execution_count": 26,
   "metadata": {},
   "outputs": [
    {
     "data": {
      "text/html": [
       "<div>\n",
       "<style scoped>\n",
       "    .dataframe tbody tr th:only-of-type {\n",
       "        vertical-align: middle;\n",
       "    }\n",
       "\n",
       "    .dataframe tbody tr th {\n",
       "        vertical-align: top;\n",
       "    }\n",
       "\n",
       "    .dataframe thead th {\n",
       "        text-align: right;\n",
       "    }\n",
       "</style>\n",
       "<table border=\"1\" class=\"dataframe\">\n",
       "  <thead>\n",
       "    <tr style=\"text-align: right;\">\n",
       "      <th></th>\n",
       "      <th>10</th>\n",
       "      <th>11</th>\n",
       "      <th>30</th>\n",
       "      <th>37</th>\n",
       "      <th>49</th>\n",
       "      <th>and</th>\n",
       "      <th>assists</th>\n",
       "      <th>curry</th>\n",
       "      <th>durant</th>\n",
       "      <th>grabbed</th>\n",
       "      <th>...</th>\n",
       "      <th>mcgee</th>\n",
       "      <th>of</th>\n",
       "      <th>points</th>\n",
       "      <th>rebounds</th>\n",
       "      <th>root</th>\n",
       "      <th>scored</th>\n",
       "      <th>square</th>\n",
       "      <th>stephen</th>\n",
       "      <th>the</th>\n",
       "      <th>win</th>\n",
       "    </tr>\n",
       "  </thead>\n",
       "  <tbody>\n",
       "    <tr>\n",
       "      <th>Kevin Durant scored 37 points, grabbed 8 rebounds, and had 6 assists in a loss</th>\n",
       "      <td>0.000000</td>\n",
       "      <td>0.000000</td>\n",
       "      <td>0.000000</td>\n",
       "      <td>0.369883</td>\n",
       "      <td>0.000000</td>\n",
       "      <td>0.236091</td>\n",
       "      <td>0.291620</td>\n",
       "      <td>0.000000</td>\n",
       "      <td>0.369883</td>\n",
       "      <td>0.236091</td>\n",
       "      <td>...</td>\n",
       "      <td>0.000000</td>\n",
       "      <td>0.000000</td>\n",
       "      <td>0.236091</td>\n",
       "      <td>0.236091</td>\n",
       "      <td>0.000000</td>\n",
       "      <td>0.236091</td>\n",
       "      <td>0.000000</td>\n",
       "      <td>0.000000</td>\n",
       "      <td>0.000000</td>\n",
       "      <td>0.000000</td>\n",
       "    </tr>\n",
       "    <tr>\n",
       "      <th>Stephen Curry scored 30 points, and grabbed 4 rebounds, and had 11 assists in a win</th>\n",
       "      <td>0.000000</td>\n",
       "      <td>0.317662</td>\n",
       "      <td>0.317662</td>\n",
       "      <td>0.000000</td>\n",
       "      <td>0.000000</td>\n",
       "      <td>0.405520</td>\n",
       "      <td>0.250449</td>\n",
       "      <td>0.317662</td>\n",
       "      <td>0.000000</td>\n",
       "      <td>0.202760</td>\n",
       "      <td>...</td>\n",
       "      <td>0.000000</td>\n",
       "      <td>0.000000</td>\n",
       "      <td>0.202760</td>\n",
       "      <td>0.202760</td>\n",
       "      <td>0.000000</td>\n",
       "      <td>0.202760</td>\n",
       "      <td>0.000000</td>\n",
       "      <td>0.317662</td>\n",
       "      <td>0.000000</td>\n",
       "      <td>0.317662</td>\n",
       "    </tr>\n",
       "    <tr>\n",
       "      <th>Javale McGee scored 10 points, and grabbed 5 rebounds in a loss</th>\n",
       "      <td>0.406019</td>\n",
       "      <td>0.000000</td>\n",
       "      <td>0.000000</td>\n",
       "      <td>0.000000</td>\n",
       "      <td>0.000000</td>\n",
       "      <td>0.259157</td>\n",
       "      <td>0.000000</td>\n",
       "      <td>0.000000</td>\n",
       "      <td>0.000000</td>\n",
       "      <td>0.259157</td>\n",
       "      <td>...</td>\n",
       "      <td>0.406019</td>\n",
       "      <td>0.000000</td>\n",
       "      <td>0.259157</td>\n",
       "      <td>0.259157</td>\n",
       "      <td>0.000000</td>\n",
       "      <td>0.259157</td>\n",
       "      <td>0.000000</td>\n",
       "      <td>0.000000</td>\n",
       "      <td>0.000000</td>\n",
       "      <td>0.000000</td>\n",
       "    </tr>\n",
       "    <tr>\n",
       "      <th>The square root of 49 is 7</th>\n",
       "      <td>0.000000</td>\n",
       "      <td>0.000000</td>\n",
       "      <td>0.000000</td>\n",
       "      <td>0.000000</td>\n",
       "      <td>0.408248</td>\n",
       "      <td>0.000000</td>\n",
       "      <td>0.000000</td>\n",
       "      <td>0.000000</td>\n",
       "      <td>0.000000</td>\n",
       "      <td>0.000000</td>\n",
       "      <td>...</td>\n",
       "      <td>0.000000</td>\n",
       "      <td>0.408248</td>\n",
       "      <td>0.000000</td>\n",
       "      <td>0.000000</td>\n",
       "      <td>0.408248</td>\n",
       "      <td>0.000000</td>\n",
       "      <td>0.408248</td>\n",
       "      <td>0.000000</td>\n",
       "      <td>0.408248</td>\n",
       "      <td>0.000000</td>\n",
       "    </tr>\n",
       "  </tbody>\n",
       "</table>\n",
       "<p>4 rows × 26 columns</p>\n",
       "</div>"
      ],
      "text/plain": [
       "                                                          10        11  \\\n",
       "Kevin Durant scored 37 points, grabbed 8 reboun...  0.000000  0.000000   \n",
       "Stephen Curry scored 30 points, and grabbed 4 r...  0.000000  0.317662   \n",
       "Javale McGee scored 10 points, and grabbed 5 re...  0.406019  0.000000   \n",
       "The square root of 49 is 7                          0.000000  0.000000   \n",
       "\n",
       "                                                          30        37  \\\n",
       "Kevin Durant scored 37 points, grabbed 8 reboun...  0.000000  0.369883   \n",
       "Stephen Curry scored 30 points, and grabbed 4 r...  0.317662  0.000000   \n",
       "Javale McGee scored 10 points, and grabbed 5 re...  0.000000  0.000000   \n",
       "The square root of 49 is 7                          0.000000  0.000000   \n",
       "\n",
       "                                                          49       and  \\\n",
       "Kevin Durant scored 37 points, grabbed 8 reboun...  0.000000  0.236091   \n",
       "Stephen Curry scored 30 points, and grabbed 4 r...  0.000000  0.405520   \n",
       "Javale McGee scored 10 points, and grabbed 5 re...  0.000000  0.259157   \n",
       "The square root of 49 is 7                          0.408248  0.000000   \n",
       "\n",
       "                                                     assists     curry  \\\n",
       "Kevin Durant scored 37 points, grabbed 8 reboun...  0.291620  0.000000   \n",
       "Stephen Curry scored 30 points, and grabbed 4 r...  0.250449  0.317662   \n",
       "Javale McGee scored 10 points, and grabbed 5 re...  0.000000  0.000000   \n",
       "The square root of 49 is 7                          0.000000  0.000000   \n",
       "\n",
       "                                                      durant   grabbed  ...  \\\n",
       "Kevin Durant scored 37 points, grabbed 8 reboun...  0.369883  0.236091  ...   \n",
       "Stephen Curry scored 30 points, and grabbed 4 r...  0.000000  0.202760  ...   \n",
       "Javale McGee scored 10 points, and grabbed 5 re...  0.000000  0.259157  ...   \n",
       "The square root of 49 is 7                          0.000000  0.000000  ...   \n",
       "\n",
       "                                                       mcgee        of  \\\n",
       "Kevin Durant scored 37 points, grabbed 8 reboun...  0.000000  0.000000   \n",
       "Stephen Curry scored 30 points, and grabbed 4 r...  0.000000  0.000000   \n",
       "Javale McGee scored 10 points, and grabbed 5 re...  0.406019  0.000000   \n",
       "The square root of 49 is 7                          0.000000  0.408248   \n",
       "\n",
       "                                                      points  rebounds  \\\n",
       "Kevin Durant scored 37 points, grabbed 8 reboun...  0.236091  0.236091   \n",
       "Stephen Curry scored 30 points, and grabbed 4 r...  0.202760  0.202760   \n",
       "Javale McGee scored 10 points, and grabbed 5 re...  0.259157  0.259157   \n",
       "The square root of 49 is 7                          0.000000  0.000000   \n",
       "\n",
       "                                                        root    scored  \\\n",
       "Kevin Durant scored 37 points, grabbed 8 reboun...  0.000000  0.236091   \n",
       "Stephen Curry scored 30 points, and grabbed 4 r...  0.000000  0.202760   \n",
       "Javale McGee scored 10 points, and grabbed 5 re...  0.000000  0.259157   \n",
       "The square root of 49 is 7                          0.408248  0.000000   \n",
       "\n",
       "                                                      square   stephen  \\\n",
       "Kevin Durant scored 37 points, grabbed 8 reboun...  0.000000  0.000000   \n",
       "Stephen Curry scored 30 points, and grabbed 4 r...  0.000000  0.317662   \n",
       "Javale McGee scored 10 points, and grabbed 5 re...  0.000000  0.000000   \n",
       "The square root of 49 is 7                          0.408248  0.000000   \n",
       "\n",
       "                                                         the       win  \n",
       "Kevin Durant scored 37 points, grabbed 8 reboun...  0.000000  0.000000  \n",
       "Stephen Curry scored 30 points, and grabbed 4 r...  0.000000  0.317662  \n",
       "Javale McGee scored 10 points, and grabbed 5 re...  0.000000  0.000000  \n",
       "The square root of 49 is 7                          0.408248  0.000000  \n",
       "\n",
       "[4 rows x 26 columns]"
      ]
     },
     "execution_count": 26,
     "metadata": {},
     "output_type": "execute_result"
    }
   ],
   "source": [
    "player_term_matrix = X.todense()\n",
    "df = pd.DataFrame(\n",
    "    player_term_matrix,\n",
    "    columns = vectorizer.get_feature_names(),\n",
    "    index = player_list\n",
    ")\n",
    "df"
   ]
  },
  {
   "cell_type": "markdown",
   "metadata": {},
   "source": [
    "## Cosine Similarity\n",
    "- A metric used to determine how similar documents are, regardless of their size\n",
    "- Mathematically:\n",
    "     - Measures the cosine of the angle between two vectors projected in a multi-dimensional space\n",
    "     - These two vectors are arrays containing the word counts of two documents (found using vectorizer classes above)\n",
    "- Advantages:\n",
    "     - Even if two documents are far apart in size, they could still be similar if they have many words in common\n",
    "     - In this case, Euclidean distance (measure of magnitude) would be large, but Cosine Similarity would show the two documents being similar due to the small angle between them"
   ]
  },
  {
   "cell_type": "code",
   "execution_count": 27,
   "metadata": {},
   "outputs": [
    {
     "data": {
      "text/plain": [
       "array([[1.        , 0.48116027, 0.46045865, 0.        ],\n",
       "       [0.48116027, 1.        , 0.36782629, 0.        ],\n",
       "       [0.46045865, 0.36782629, 1.        , 0.        ],\n",
       "       [0.        , 0.        , 0.        , 1.        ]])"
      ]
     },
     "execution_count": 27,
     "metadata": {},
     "output_type": "execute_result"
    }
   ],
   "source": [
    "cosine_similarity(df, df)"
   ]
  },
  {
   "cell_type": "code",
   "execution_count": 28,
   "metadata": {},
   "outputs": [
    {
     "data": {
      "text/html": [
       "<div>\n",
       "<style scoped>\n",
       "    .dataframe tbody tr th:only-of-type {\n",
       "        vertical-align: middle;\n",
       "    }\n",
       "\n",
       "    .dataframe tbody tr th {\n",
       "        vertical-align: top;\n",
       "    }\n",
       "\n",
       "    .dataframe thead th {\n",
       "        text-align: right;\n",
       "    }\n",
       "</style>\n",
       "<table border=\"1\" class=\"dataframe\">\n",
       "  <thead>\n",
       "    <tr style=\"text-align: right;\">\n",
       "      <th></th>\n",
       "      <th>Kevin Durant scored 37 points, grabbed 8 rebounds, and had 6 assists in a loss</th>\n",
       "      <th>Stephen Curry scored 30 points, and grabbed 4 rebounds, and had 11 assists in a win</th>\n",
       "      <th>Javale McGee scored 10 points, and grabbed 5 rebounds in a loss</th>\n",
       "      <th>The square root of 49 is 7</th>\n",
       "    </tr>\n",
       "  </thead>\n",
       "  <tbody>\n",
       "    <tr>\n",
       "      <th>Kevin Durant scored 37 points, grabbed 8 rebounds, and had 6 assists in a loss</th>\n",
       "      <td>1.00</td>\n",
       "      <td>0.48</td>\n",
       "      <td>0.46</td>\n",
       "      <td>0.0</td>\n",
       "    </tr>\n",
       "    <tr>\n",
       "      <th>Stephen Curry scored 30 points, and grabbed 4 rebounds, and had 11 assists in a win</th>\n",
       "      <td>0.48</td>\n",
       "      <td>1.00</td>\n",
       "      <td>0.37</td>\n",
       "      <td>0.0</td>\n",
       "    </tr>\n",
       "    <tr>\n",
       "      <th>Javale McGee scored 10 points, and grabbed 5 rebounds in a loss</th>\n",
       "      <td>0.46</td>\n",
       "      <td>0.37</td>\n",
       "      <td>1.00</td>\n",
       "      <td>0.0</td>\n",
       "    </tr>\n",
       "    <tr>\n",
       "      <th>The square root of 49 is 7</th>\n",
       "      <td>0.00</td>\n",
       "      <td>0.00</td>\n",
       "      <td>0.00</td>\n",
       "      <td>1.0</td>\n",
       "    </tr>\n",
       "  </tbody>\n",
       "</table>\n",
       "</div>"
      ],
      "text/plain": [
       "                                                    Kevin Durant scored 37 points, grabbed 8 rebounds, and had 6 assists in a loss  \\\n",
       "Kevin Durant scored 37 points, grabbed 8 reboun...                                               1.00                                \n",
       "Stephen Curry scored 30 points, and grabbed 4 r...                                               0.48                                \n",
       "Javale McGee scored 10 points, and grabbed 5 re...                                               0.46                                \n",
       "The square root of 49 is 7                                                                       0.00                                \n",
       "\n",
       "                                                    Stephen Curry scored 30 points, and grabbed 4 rebounds, and had 11 assists in a win  \\\n",
       "Kevin Durant scored 37 points, grabbed 8 reboun...                                               0.48                                     \n",
       "Stephen Curry scored 30 points, and grabbed 4 r...                                               1.00                                     \n",
       "Javale McGee scored 10 points, and grabbed 5 re...                                               0.37                                     \n",
       "The square root of 49 is 7                                                                       0.00                                     \n",
       "\n",
       "                                                    Javale McGee scored 10 points, and grabbed 5 rebounds in a loss  \\\n",
       "Kevin Durant scored 37 points, grabbed 8 reboun...                                               0.46                 \n",
       "Stephen Curry scored 30 points, and grabbed 4 r...                                               0.37                 \n",
       "Javale McGee scored 10 points, and grabbed 5 re...                                               1.00                 \n",
       "The square root of 49 is 7                                                                       0.00                 \n",
       "\n",
       "                                                    The square root of 49 is 7  \n",
       "Kevin Durant scored 37 points, grabbed 8 reboun...                         0.0  \n",
       "Stephen Curry scored 30 points, and grabbed 4 r...                         0.0  \n",
       "Javale McGee scored 10 points, and grabbed 5 re...                         0.0  \n",
       "The square root of 49 is 7                                                 1.0  "
      ]
     },
     "execution_count": 28,
     "metadata": {},
     "output_type": "execute_result"
    }
   ],
   "source": [
    "# Turn cosine similarity 2D array into a Pandas DataFrame\n",
    "df = pd.DataFrame(\n",
    "    cosine_similarity(df, df),\n",
    "    columns = player_list,\n",
    "    index = player_list\n",
    ")\n",
    "\n",
    "round(df, 2)"
   ]
  },
  {
   "cell_type": "markdown",
   "metadata": {},
   "source": [
    "- Using Tfidf Vectorizer, the result of cosine_similarity is equal to the result of linear_kernel, since the squared values and summation of all values is equal to 1 (least square normalized)\n",
    "- This would not be the case if we used the Count Vectorizer"
   ]
  },
  {
   "cell_type": "markdown",
   "metadata": {},
   "source": [
    "# **Gensim**\n",
    "- Represent text as semantic vectors\n",
    "- Find semantically related documents\n",
    "- Semantic NLP models"
   ]
  },
  {
   "cell_type": "markdown",
   "metadata": {},
   "source": [
    "**Instructions for first time installation**  \n",
    "- Gensim  \n",
    "  - pip install --upgrade gensim  (running version 4.0.1) \n",
    "- Levenshtein  \n",
    "  - python extension for computing string edit distances and similarities\n",
    "  - this installation is optional, but if not installed a warning will appear when importing gensim saying that the gensim.similarities.levenshtein submodule is disabled\n",
    "  - pip install python-Levenshtein\n"
   ]
  },
  {
   "cell_type": "markdown",
   "metadata": {},
   "source": [
    "## Soft Cosine Similarity Measure\n",
    "- Similarity metric that gives higher scores for documents belonging to the same topic, lower scores for documents belonging to different topics\n",
    "- Considers the **semantic meaning** of words, rather than specific letters in text"
   ]
  },
  {
   "cell_type": "code",
   "execution_count": 29,
   "metadata": {},
   "outputs": [
    {
     "data": {
      "text/plain": [
       "'The best french toast I ever tasted was from a cafe in Philadelphia. The maple syrup was definitely a highlight.'"
      ]
     },
     "execution_count": 29,
     "metadata": {},
     "output_type": "execute_result"
    }
   ],
   "source": [
    "# First, add in a couple sentences pertaining to a similar topic\n",
    "s4 = 'The best french toast I ever tasted was from a cafe in Philadelphia. The maple syrup was definitely a highlight.'\n",
    "s5 = 'Ice cream is probably my favorite desert. There is a shop on Long Beach Island that simply makes the best ice cream out there.'\n",
    "\n",
    "# Important for later: s1, s2, s3 pertain to basketball, while s4 and s5 pertain to food\n",
    "topic_list = [s1, s2, s3, s4, s5]\n",
    "topic_list_doc = topic_list\n",
    "s4"
   ]
  },
  {
   "cell_type": "markdown",
   "metadata": {},
   "source": [
    "**1.** remove english stop words (see topic 1.2), which will be irrelevant in calculating semantic similarities"
   ]
  },
  {
   "cell_type": "code",
   "execution_count": 30,
   "metadata": {},
   "outputs": [],
   "source": [
    "english_stops = nltk.corpus.stopwords.words('english')\n",
    "# Step 1: split each document into individual words\n",
    "s1 = s1.lower().split()\n",
    "s2 = s2.lower().split()\n",
    "s3 = s3.lower().split()\n",
    "s4 = s4.lower().split()\n",
    "s5 = s5.lower().split()"
   ]
  },
  {
   "cell_type": "code",
   "execution_count": 31,
   "metadata": {},
   "outputs": [],
   "source": [
    "# Step 2: remove stepwords from each document\n",
    "s1 = [word for word in s1 if word not in english_stops]\n",
    "s2 = [word for word in s2 if word not in english_stops]\n",
    "s3 = [word for word in s3 if word not in english_stops]\n",
    "s4 = [word for word in s4 if word not in english_stops]\n",
    "s5 = [word for word in s5 if word not in english_stops]"
   ]
  },
  {
   "cell_type": "markdown",
   "metadata": {},
   "source": [
    "**2.** Prepare a dictionary/corpus, convert sentences into bag-of-words vectors"
   ]
  },
  {
   "cell_type": "code",
   "execution_count": 32,
   "metadata": {},
   "outputs": [],
   "source": [
    "topic_list = [s1, s2, s3, s4, s5]\n",
    "dictionary = gensim.corpora.Dictionary(topic_list)"
   ]
  },
  {
   "cell_type": "code",
   "execution_count": 33,
   "metadata": {},
   "outputs": [],
   "source": [
    "topic_list_bow = []\n",
    "for topic in topic_list:\n",
    "    topic = dictionary.doc2bow(topic)\n",
    "    topic_list_bow.append(topic)"
   ]
  },
  {
   "cell_type": "code",
   "execution_count": 34,
   "metadata": {},
   "outputs": [
    {
     "data": {
      "text/plain": [
       "[[(0, 1),\n",
       "  (1, 1),\n",
       "  (2, 1),\n",
       "  (3, 1),\n",
       "  (4, 1),\n",
       "  (5, 1),\n",
       "  (6, 1),\n",
       "  (7, 1),\n",
       "  (8, 1),\n",
       "  (9, 1),\n",
       "  (10, 1)],\n",
       " [(3, 1),\n",
       "  (5, 1),\n",
       "  (8, 1),\n",
       "  (9, 1),\n",
       "  (10, 1),\n",
       "  (11, 1),\n",
       "  (12, 1),\n",
       "  (13, 1),\n",
       "  (14, 1),\n",
       "  (15, 1),\n",
       "  (16, 1)]]"
      ]
     },
     "execution_count": 34,
     "metadata": {},
     "output_type": "execute_result"
    }
   ],
   "source": [
    "# Visualize bag-of-words vectors (only first two documents shown)\n",
    "# Each word is assigned a number, followed by a number of occurences in each document\n",
    "topic_list_bow[0:2]"
   ]
  },
  {
   "cell_type": "markdown",
   "metadata": {},
   "source": [
    "**3.** Download embeddings to construct a term similarity matrix\n",
    "- Word embeddings are vector representations of a particular word\n",
    "- Word2Vec is a method to construct word embeddings, obtained in this case using continuous bag-of-words (CBOW)"
   ]
  },
  {
   "cell_type": "code",
   "execution_count": 35,
   "metadata": {},
   "outputs": [
    {
     "name": "stderr",
     "output_type": "stream",
     "text": [
      "100%|██████████| 45/45 [00:00<00:00, 96.18it/s]\n"
     ]
    }
   ],
   "source": [
    "# should take approximately 30 seconds to load\n",
    "w2v_model = api.load('glove-wiki-gigaword-50')\n",
    "similarity_index = gensim.similarities.WordEmbeddingSimilarityIndex(w2v_model)\n",
    "similarity_matrix = gensim.similarities.SparseTermSimilarityMatrix(similarity_index, dictionary)"
   ]
  },
  {
   "cell_type": "markdown",
   "metadata": {},
   "source": [
    "**4.** Find Soft Cosine Similarities"
   ]
  },
  {
   "cell_type": "code",
   "execution_count": 36,
   "metadata": {},
   "outputs": [
    {
     "data": {
      "text/plain": [
       "0.8714281"
      ]
     },
     "execution_count": 36,
     "metadata": {},
     "output_type": "execute_result"
    }
   ],
   "source": [
    "similarity = similarity_matrix.inner_product(topic_list_bow[0], topic_list_bow[1], normalized = (True, True))\n",
    "similarity"
   ]
  },
  {
   "cell_type": "markdown",
   "metadata": {},
   "source": [
    "As seen above, there is a very high soft cosine similarity between the first two documents, which makes sense considering they both involve basketball statlines. Below, we can construct a matrix for the similarities between each of the five documents."
   ]
  },
  {
   "cell_type": "code",
   "execution_count": 37,
   "metadata": {},
   "outputs": [
    {
     "data": {
      "text/html": [
       "<div>\n",
       "<style scoped>\n",
       "    .dataframe tbody tr th:only-of-type {\n",
       "        vertical-align: middle;\n",
       "    }\n",
       "\n",
       "    .dataframe tbody tr th {\n",
       "        vertical-align: top;\n",
       "    }\n",
       "\n",
       "    .dataframe thead th {\n",
       "        text-align: right;\n",
       "    }\n",
       "</style>\n",
       "<table border=\"1\" class=\"dataframe\">\n",
       "  <thead>\n",
       "    <tr style=\"text-align: right;\">\n",
       "      <th></th>\n",
       "      <th>Kevin Durant scored 37 points, grabbed 8 rebounds, and had 6 assists in a loss</th>\n",
       "      <th>Stephen Curry scored 30 points, and grabbed 4 rebounds, and had 11 assists in a win</th>\n",
       "      <th>Javale McGee scored 10 points, and grabbed 5 rebounds in a loss</th>\n",
       "      <th>The best french toast I ever tasted was from a cafe in Philadelphia. The maple syrup was definitely a highlight.</th>\n",
       "      <th>Ice cream is probably my favorite desert. There is a shop on Long Beach Island that simply makes the best ice cream out there.</th>\n",
       "    </tr>\n",
       "  </thead>\n",
       "  <tbody>\n",
       "    <tr>\n",
       "      <th>Kevin Durant scored 37 points, grabbed 8 rebounds, and had 6 assists in a loss</th>\n",
       "      <td>1.00</td>\n",
       "      <td>0.87</td>\n",
       "      <td>0.80</td>\n",
       "      <td>0.00</td>\n",
       "      <td>0.00</td>\n",
       "    </tr>\n",
       "    <tr>\n",
       "      <th>Stephen Curry scored 30 points, and grabbed 4 rebounds, and had 11 assists in a win</th>\n",
       "      <td>0.87</td>\n",
       "      <td>1.00</td>\n",
       "      <td>0.78</td>\n",
       "      <td>0.00</td>\n",
       "      <td>0.04</td>\n",
       "    </tr>\n",
       "    <tr>\n",
       "      <th>Javale McGee scored 10 points, and grabbed 5 rebounds in a loss</th>\n",
       "      <td>0.80</td>\n",
       "      <td>0.78</td>\n",
       "      <td>1.00</td>\n",
       "      <td>0.00</td>\n",
       "      <td>0.00</td>\n",
       "    </tr>\n",
       "    <tr>\n",
       "      <th>The best french toast I ever tasted was from a cafe in Philadelphia. The maple syrup was definitely a highlight.</th>\n",
       "      <td>0.00</td>\n",
       "      <td>0.00</td>\n",
       "      <td>0.00</td>\n",
       "      <td>1.00</td>\n",
       "      <td>0.43</td>\n",
       "    </tr>\n",
       "    <tr>\n",
       "      <th>Ice cream is probably my favorite desert. There is a shop on Long Beach Island that simply makes the best ice cream out there.</th>\n",
       "      <td>0.00</td>\n",
       "      <td>0.04</td>\n",
       "      <td>0.00</td>\n",
       "      <td>0.43</td>\n",
       "      <td>1.00</td>\n",
       "    </tr>\n",
       "  </tbody>\n",
       "</table>\n",
       "</div>"
      ],
      "text/plain": [
       "                                                    Kevin Durant scored 37 points, grabbed 8 rebounds, and had 6 assists in a loss  \\\n",
       "Kevin Durant scored 37 points, grabbed 8 reboun...                                               1.00                                \n",
       "Stephen Curry scored 30 points, and grabbed 4 r...                                               0.87                                \n",
       "Javale McGee scored 10 points, and grabbed 5 re...                                               0.80                                \n",
       "The best french toast I ever tasted was from a ...                                               0.00                                \n",
       "Ice cream is probably my favorite desert. There...                                               0.00                                \n",
       "\n",
       "                                                    Stephen Curry scored 30 points, and grabbed 4 rebounds, and had 11 assists in a win  \\\n",
       "Kevin Durant scored 37 points, grabbed 8 reboun...                                               0.87                                     \n",
       "Stephen Curry scored 30 points, and grabbed 4 r...                                               1.00                                     \n",
       "Javale McGee scored 10 points, and grabbed 5 re...                                               0.78                                     \n",
       "The best french toast I ever tasted was from a ...                                               0.00                                     \n",
       "Ice cream is probably my favorite desert. There...                                               0.04                                     \n",
       "\n",
       "                                                    Javale McGee scored 10 points, and grabbed 5 rebounds in a loss  \\\n",
       "Kevin Durant scored 37 points, grabbed 8 reboun...                                               0.80                 \n",
       "Stephen Curry scored 30 points, and grabbed 4 r...                                               0.78                 \n",
       "Javale McGee scored 10 points, and grabbed 5 re...                                               1.00                 \n",
       "The best french toast I ever tasted was from a ...                                               0.00                 \n",
       "Ice cream is probably my favorite desert. There...                                               0.00                 \n",
       "\n",
       "                                                    The best french toast I ever tasted was from a cafe in Philadelphia. The maple syrup was definitely a highlight.  \\\n",
       "Kevin Durant scored 37 points, grabbed 8 reboun...                                               0.00                                                                  \n",
       "Stephen Curry scored 30 points, and grabbed 4 r...                                               0.00                                                                  \n",
       "Javale McGee scored 10 points, and grabbed 5 re...                                               0.00                                                                  \n",
       "The best french toast I ever tasted was from a ...                                               1.00                                                                  \n",
       "Ice cream is probably my favorite desert. There...                                               0.43                                                                  \n",
       "\n",
       "                                                    Ice cream is probably my favorite desert. There is a shop on Long Beach Island that simply makes the best ice cream out there.  \n",
       "Kevin Durant scored 37 points, grabbed 8 reboun...                                               0.00                                                                               \n",
       "Stephen Curry scored 30 points, and grabbed 4 r...                                               0.04                                                                               \n",
       "Javale McGee scored 10 points, and grabbed 5 re...                                               0.00                                                                               \n",
       "The best french toast I ever tasted was from a ...                                               0.43                                                                               \n",
       "Ice cream is probably my favorite desert. There...                                               1.00                                                                               "
      ]
     },
     "execution_count": 37,
     "metadata": {},
     "output_type": "execute_result"
    }
   ],
   "source": [
    "soft_cossim = []\n",
    "sim = []\n",
    "\n",
    "for topic_index, topic in enumerate(topic_list_bow):\n",
    "    for topic_similarity_index, topic_sim in enumerate(topic_list_bow):\n",
    "        sim.append(similarity_matrix.inner_product(topic_list_bow[topic_index], topic_list_bow[topic_similarity_index], normalized = (True, True)))\n",
    "    soft_cossim.append(sim)\n",
    "    sim = []\n",
    "\n",
    "soft_cossim_measure = round(pd.DataFrame(soft_cossim, index = topic_list_doc, columns = topic_list_doc), 2)\n",
    "soft_cossim_measure"
   ]
  }
 ],
 "metadata": {
  "kernelspec": {
   "display_name": "Python 3",
   "language": "python",
   "name": "python3"
  },
  "language_info": {
   "codemirror_mode": {
    "name": "ipython",
    "version": 3
   },
   "file_extension": ".py",
   "mimetype": "text/x-python",
   "name": "python",
   "nbconvert_exporter": "python",
   "pygments_lexer": "ipython3",
   "version": "3.8.5"
  }
 },
 "nbformat": 4,
 "nbformat_minor": 4
}
